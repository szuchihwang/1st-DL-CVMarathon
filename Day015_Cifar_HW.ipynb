{
 "cells": [
  {
   "cell_type": "markdown",
   "metadata": {},
   "source": [
    "## 『本次練習內容』\n",
    "#### 運用這幾天所學觀念搭建一個CNN分類器"
   ]
  },
  {
   "cell_type": "markdown",
   "metadata": {},
   "source": [
    "## 『本次練習目的』\n",
    "  #### 熟悉CNN分類器搭建步驟與原理\n",
    "  #### 學員們可以嘗試不同搭法，如使用不同的Maxpooling層，用GlobalAveragePooling取代Flatten等等"
   ]
  },
  {
   "cell_type": "code",
   "execution_count": 1,
   "metadata": {},
   "outputs": [
    {
     "name": "stderr",
     "output_type": "stream",
     "text": [
      "C:\\Users\\Hero3C\\Anaconda3\\envs\\keras\\lib\\site-packages\\tensorflow\\python\\framework\\dtypes.py:516: FutureWarning: Passing (type, 1) or '1type' as a synonym of type is deprecated; in a future version of numpy, it will be understood as (type, (1,)) / '(1,)type'.\n",
      "  _np_qint8 = np.dtype([(\"qint8\", np.int8, 1)])\n",
      "C:\\Users\\Hero3C\\Anaconda3\\envs\\keras\\lib\\site-packages\\tensorflow\\python\\framework\\dtypes.py:517: FutureWarning: Passing (type, 1) or '1type' as a synonym of type is deprecated; in a future version of numpy, it will be understood as (type, (1,)) / '(1,)type'.\n",
      "  _np_quint8 = np.dtype([(\"quint8\", np.uint8, 1)])\n",
      "C:\\Users\\Hero3C\\Anaconda3\\envs\\keras\\lib\\site-packages\\tensorflow\\python\\framework\\dtypes.py:518: FutureWarning: Passing (type, 1) or '1type' as a synonym of type is deprecated; in a future version of numpy, it will be understood as (type, (1,)) / '(1,)type'.\n",
      "  _np_qint16 = np.dtype([(\"qint16\", np.int16, 1)])\n",
      "C:\\Users\\Hero3C\\Anaconda3\\envs\\keras\\lib\\site-packages\\tensorflow\\python\\framework\\dtypes.py:519: FutureWarning: Passing (type, 1) or '1type' as a synonym of type is deprecated; in a future version of numpy, it will be understood as (type, (1,)) / '(1,)type'.\n",
      "  _np_quint16 = np.dtype([(\"quint16\", np.uint16, 1)])\n",
      "C:\\Users\\Hero3C\\Anaconda3\\envs\\keras\\lib\\site-packages\\tensorflow\\python\\framework\\dtypes.py:520: FutureWarning: Passing (type, 1) or '1type' as a synonym of type is deprecated; in a future version of numpy, it will be understood as (type, (1,)) / '(1,)type'.\n",
      "  _np_qint32 = np.dtype([(\"qint32\", np.int32, 1)])\n",
      "C:\\Users\\Hero3C\\Anaconda3\\envs\\keras\\lib\\site-packages\\tensorflow\\python\\framework\\dtypes.py:525: FutureWarning: Passing (type, 1) or '1type' as a synonym of type is deprecated; in a future version of numpy, it will be understood as (type, (1,)) / '(1,)type'.\n",
      "  np_resource = np.dtype([(\"resource\", np.ubyte, 1)])\n",
      "C:\\Users\\Hero3C\\Anaconda3\\envs\\keras\\lib\\site-packages\\tensorboard\\compat\\tensorflow_stub\\dtypes.py:541: FutureWarning: Passing (type, 1) or '1type' as a synonym of type is deprecated; in a future version of numpy, it will be understood as (type, (1,)) / '(1,)type'.\n",
      "  _np_qint8 = np.dtype([(\"qint8\", np.int8, 1)])\n",
      "C:\\Users\\Hero3C\\Anaconda3\\envs\\keras\\lib\\site-packages\\tensorboard\\compat\\tensorflow_stub\\dtypes.py:542: FutureWarning: Passing (type, 1) or '1type' as a synonym of type is deprecated; in a future version of numpy, it will be understood as (type, (1,)) / '(1,)type'.\n",
      "  _np_quint8 = np.dtype([(\"quint8\", np.uint8, 1)])\n",
      "C:\\Users\\Hero3C\\Anaconda3\\envs\\keras\\lib\\site-packages\\tensorboard\\compat\\tensorflow_stub\\dtypes.py:543: FutureWarning: Passing (type, 1) or '1type' as a synonym of type is deprecated; in a future version of numpy, it will be understood as (type, (1,)) / '(1,)type'.\n",
      "  _np_qint16 = np.dtype([(\"qint16\", np.int16, 1)])\n",
      "C:\\Users\\Hero3C\\Anaconda3\\envs\\keras\\lib\\site-packages\\tensorboard\\compat\\tensorflow_stub\\dtypes.py:544: FutureWarning: Passing (type, 1) or '1type' as a synonym of type is deprecated; in a future version of numpy, it will be understood as (type, (1,)) / '(1,)type'.\n",
      "  _np_quint16 = np.dtype([(\"quint16\", np.uint16, 1)])\n",
      "C:\\Users\\Hero3C\\Anaconda3\\envs\\keras\\lib\\site-packages\\tensorboard\\compat\\tensorflow_stub\\dtypes.py:545: FutureWarning: Passing (type, 1) or '1type' as a synonym of type is deprecated; in a future version of numpy, it will be understood as (type, (1,)) / '(1,)type'.\n",
      "  _np_qint32 = np.dtype([(\"qint32\", np.int32, 1)])\n",
      "C:\\Users\\Hero3C\\Anaconda3\\envs\\keras\\lib\\site-packages\\tensorboard\\compat\\tensorflow_stub\\dtypes.py:550: FutureWarning: Passing (type, 1) or '1type' as a synonym of type is deprecated; in a future version of numpy, it will be understood as (type, (1,)) / '(1,)type'.\n",
      "  np_resource = np.dtype([(\"resource\", np.ubyte, 1)])\n"
     ]
    }
   ],
   "source": [
    "from tensorflow.python.keras.models import Sequential\n",
    "from tensorflow.python.keras.layers import Convolution2D\n",
    "from tensorflow.python.keras.layers import MaxPooling2D\n",
    "from tensorflow.python.keras.layers import Flatten\n",
    "from tensorflow.python.keras.layers import Dense\n",
    "from tensorflow.python.keras.layers import Dropout\n",
    "from tensorflow.python.keras.layers import BatchNormalization\n",
    "from tensorflow.python.keras.datasets import cifar10\n",
    "import numpy as np\n",
    "import tensorflow as tf\n",
    "from sklearn.preprocessing import OneHotEncoder\n",
    "\n",
    "from tensorflow.compat.v1 import ConfigProto\n",
    "from tensorflow.compat.v1 import InteractiveSession\n",
    "\n",
    "config = ConfigProto()\n",
    "config.gpu_options.allow_growth = True\n",
    "session = InteractiveSession(config=config)\n"
   ]
  },
  {
   "cell_type": "code",
   "execution_count": 2,
   "metadata": {},
   "outputs": [
    {
     "name": "stdout",
     "output_type": "stream",
     "text": [
      "(50000, 32, 32, 3)\n"
     ]
    }
   ],
   "source": [
    "(x_train, y_train), (x_test, y_test) = cifar10.load_data()\n",
    "\n",
    "print(x_train.shape) #(50000, 32, 32, 3)\n",
    "\n",
    "## Normalize Data\n",
    "def normalize(X_train,X_test):\n",
    "        mean = np.mean(X_train,axis=(0,1,2,3))\n",
    "        std = np.std(X_train, axis=(0, 1, 2, 3))\n",
    "        X_train = (X_train-mean)/(std+1e-7)\n",
    "        X_test = (X_test-mean)/(std+1e-7) \n",
    "        return X_train, X_test,mean,std\n",
    "    \n",
    "    \n",
    "## Normalize Training and Testset    \n",
    "x_train, x_test,mean_train,std_train = normalize(x_train, x_test) "
   ]
  },
  {
   "cell_type": "code",
   "execution_count": 3,
   "metadata": {},
   "outputs": [
    {
     "name": "stderr",
     "output_type": "stream",
     "text": [
      "C:\\Users\\Hero3C\\Anaconda3\\envs\\keras\\lib\\site-packages\\sklearn\\preprocessing\\_encoders.py:415: FutureWarning: The handling of integer data will change in version 0.22. Currently, the categories are determined based on the range [0, max(values)], while in the future they will be determined based on the unique values.\n",
      "If you want the future behaviour and silence this warning, you can specify \"categories='auto'\".\n",
      "In case you used a LabelEncoder before this OneHotEncoder to convert the categories to integers, then you can now use the OneHotEncoder directly.\n",
      "  warnings.warn(msg, FutureWarning)\n"
     ]
    }
   ],
   "source": [
    "## OneHot Label 由(None, 1)-(None, 10)\n",
    "## ex. label=2,變成[0,0,1,0,0,0,0,0,0,0]\n",
    "one_hot=OneHotEncoder()\n",
    "y_train=one_hot.fit_transform(y_train).toarray()\n",
    "y_test=one_hot.transform(y_test).toarray()"
   ]
  },
  {
   "cell_type": "code",
   "execution_count": 22,
   "metadata": {},
   "outputs": [
    {
     "name": "stdout",
     "output_type": "stream",
     "text": [
      "Model: \"sequential_4\"\n",
      "_________________________________________________________________\n",
      "Layer (type)                 Output Shape              Param #   \n",
      "=================================================================\n",
      "conv2d_12 (Conv2D)           (None, 32, 32, 1024)      28672     \n",
      "_________________________________________________________________\n",
      "batch_normalization_11 (Batc (None, 32, 32, 1024)      4096      \n",
      "_________________________________________________________________\n",
      "conv2d_13 (Conv2D)           (None, 32, 32, 1024)      9438208   \n",
      "_________________________________________________________________\n",
      "max_pooling2d_8 (MaxPooling2 (None, 16, 16, 1024)      0         \n",
      "_________________________________________________________________\n",
      "dropout (Dropout)            (None, 16, 16, 1024)      0         \n",
      "_________________________________________________________________\n",
      "batch_normalization_12 (Batc (None, 16, 16, 1024)      4096      \n",
      "_________________________________________________________________\n",
      "conv2d_14 (Conv2D)           (None, 16, 16, 512)       4719104   \n",
      "_________________________________________________________________\n",
      "batch_normalization_13 (Batc (None, 16, 16, 512)       2048      \n",
      "_________________________________________________________________\n",
      "conv2d_15 (Conv2D)           (None, 16, 16, 512)       2359808   \n",
      "_________________________________________________________________\n",
      "max_pooling2d_9 (MaxPooling2 (None, 8, 8, 512)         0         \n",
      "_________________________________________________________________\n",
      "dropout_1 (Dropout)          (None, 8, 8, 512)         0         \n",
      "_________________________________________________________________\n",
      "batch_normalization_14 (Batc (None, 8, 8, 512)         2048      \n",
      "_________________________________________________________________\n",
      "conv2d_16 (Conv2D)           (None, 8, 8, 128)         589952    \n",
      "_________________________________________________________________\n",
      "batch_normalization_15 (Batc (None, 8, 8, 128)         512       \n",
      "_________________________________________________________________\n",
      "conv2d_17 (Conv2D)           (None, 8, 8, 128)         147584    \n",
      "_________________________________________________________________\n",
      "max_pooling2d_10 (MaxPooling (None, 4, 4, 128)         0         \n",
      "_________________________________________________________________\n",
      "dropout_2 (Dropout)          (None, 4, 4, 128)         0         \n",
      "_________________________________________________________________\n",
      "batch_normalization_16 (Batc (None, 4, 4, 128)         512       \n",
      "_________________________________________________________________\n",
      "flatten_2 (Flatten)          (None, 2048)              0         \n",
      "_________________________________________________________________\n",
      "dense_4 (Dense)              (None, 1024)              2098176   \n",
      "_________________________________________________________________\n",
      "dropout_3 (Dropout)          (None, 1024)              0         \n",
      "_________________________________________________________________\n",
      "dense_5 (Dense)              (None, 10)                10250     \n",
      "=================================================================\n",
      "Total params: 19,405,066\n",
      "Trainable params: 19,398,410\n",
      "Non-trainable params: 6,656\n",
      "_________________________________________________________________\n"
     ]
    }
   ],
   "source": [
    "\n",
    "classifier=Sequential()\n",
    "\n",
    "#卷積組合\n",
    "classifier.add(Convolution2D(1024, (3, 3), padding='same',\n",
    "                      activation='relu',\n",
    "                      input_shape=(32,32,3)\n",
    "                     ))     #32,3,3,input_shape=(32,32,3),activation='relu''\n",
    "classifier.add(BatchNormalization())\n",
    "\n",
    "classifier.add(Convolution2D(1024, (3, 3), padding='same',\n",
    "                      activation='relu',\n",
    "                      ))    #32,3,3,input_shape=(32,32,3),activation='relu''\n",
    "classifier.add(MaxPooling2D(pool_size=(2, 2)))\n",
    "classifier.add(Dropout(0.25))\n",
    "classifier.add(BatchNormalization())\n",
    "\n",
    "classifier.add(Convolution2D(512, (3, 3), padding='same',\n",
    "                      activation='relu',\n",
    "                      ))    #32,3,3,input_shape=(32,32,3),activation='relu''\n",
    "classifier.add(BatchNormalization())\n",
    "classifier.add(Convolution2D(512, (3, 3), padding='same',\n",
    "                      activation='relu',\n",
    "                      ))    #32,3,3,input_shape=(32,32,3),activation='relu''\n",
    "classifier.add(MaxPooling2D(pool_size=(2, 2)))\n",
    "classifier.add(Dropout(0.25))\n",
    "classifier.add(BatchNormalization())\n",
    "\n",
    "classifier.add(Convolution2D(128, (3, 3), padding='same',\n",
    "                      activation='relu',\n",
    "                      ))    #32,3,3,input_shape=(32,32,3),activation='relu''\n",
    "classifier.add(BatchNormalization())\n",
    "classifier.add(Convolution2D(128, (3, 3), padding='same',\n",
    "                      activation='relu',\n",
    "                      ))    #32,3,3,input_shape=(32,32,3),activation='relu''\n",
    "classifier.add(MaxPooling2D(pool_size=(2, 2)))\n",
    "classifier.add(Dropout(0.25))\n",
    "classifier.add(BatchNormalization())\n",
    "\n",
    "\n",
    "#flatten\n",
    "classifier.add(Flatten())\n",
    "classifier.add(Dense(1024, activation='relu')) #output_dim=100,activation=relu '自己設計FC層參數'\n",
    "classifier.add(Dropout(0.5))\n",
    "#輸出\n",
    "classifier.add(Dense(10, activation='softmax')) #'輸出函數應該用什麼？'\n",
    "\n",
    "classifier.summary()"
   ]
  },
  {
   "cell_type": "code",
   "execution_count": 23,
   "metadata": {},
   "outputs": [
    {
     "name": "stdout",
     "output_type": "stream",
     "text": [
      "Train on 50000 samples, validate on 10000 samples\n",
      "Epoch 1/100\n",
      "50000/50000 [==============================] - 240s 5ms/sample - loss: 1.5355 - accuracy: 0.4775 - val_loss: 1.1307 - val_accuracy: 0.6037\n",
      "Epoch 2/100\n",
      "50000/50000 [==============================] - 230s 5ms/sample - loss: 0.9682 - accuracy: 0.6595 - val_loss: 0.8261 - val_accuracy: 0.7158\n",
      "Epoch 3/100\n",
      "50000/50000 [==============================] - 231s 5ms/sample - loss: 0.7622 - accuracy: 0.7361 - val_loss: 0.6801 - val_accuracy: 0.7619\n",
      "Epoch 4/100\n",
      "50000/50000 [==============================] - 231s 5ms/sample - loss: 0.6353 - accuracy: 0.7810 - val_loss: 0.6206 - val_accuracy: 0.7967\n",
      "Epoch 5/100\n",
      "50000/50000 [==============================] - 231s 5ms/sample - loss: 0.5391 - accuracy: 0.8161 - val_loss: 0.5494 - val_accuracy: 0.8196\n",
      "Epoch 6/100\n",
      "50000/50000 [==============================] - 230s 5ms/sample - loss: 0.4624 - accuracy: 0.8424 - val_loss: 0.5471 - val_accuracy: 0.8193\n",
      "Epoch 7/100\n",
      "50000/50000 [==============================] - 231s 5ms/sample - loss: 0.4028 - accuracy: 0.8626 - val_loss: 0.5402 - val_accuracy: 0.8247\n",
      "Epoch 8/100\n",
      "50000/50000 [==============================] - 231s 5ms/sample - loss: 0.3454 - accuracy: 0.8822 - val_loss: 0.5353 - val_accuracy: 0.8355\n",
      "Epoch 9/100\n",
      "50000/50000 [==============================] - 231s 5ms/sample - loss: 0.2948 - accuracy: 0.8984 - val_loss: 0.4901 - val_accuracy: 0.8421\n",
      "Epoch 10/100\n",
      "50000/50000 [==============================] - 230s 5ms/sample - loss: 0.2535 - accuracy: 0.9122 - val_loss: 0.5259 - val_accuracy: 0.8428\n",
      "Epoch 11/100\n",
      "50000/50000 [==============================] - 231s 5ms/sample - loss: 0.2245 - accuracy: 0.9230 - val_loss: 0.5341 - val_accuracy: 0.8490\n",
      "Epoch 12/100\n",
      "50000/50000 [==============================] - 230s 5ms/sample - loss: 0.2005 - accuracy: 0.9315 - val_loss: 0.5121 - val_accuracy: 0.8551\n",
      "Epoch 13/100\n",
      "50000/50000 [==============================] - 231s 5ms/sample - loss: 0.1805 - accuracy: 0.9382 - val_loss: 0.4840 - val_accuracy: 0.8646\n",
      "Epoch 14/100\n",
      "50000/50000 [==============================] - 229s 5ms/sample - loss: 0.1644 - accuracy: 0.9435 - val_loss: 0.5592 - val_accuracy: 0.8584\n",
      "Epoch 15/100\n",
      "50000/50000 [==============================] - 231s 5ms/sample - loss: 0.1461 - accuracy: 0.9504 - val_loss: 0.4999 - val_accuracy: 0.8691\n",
      "Epoch 16/100\n",
      "50000/50000 [==============================] - 229s 5ms/sample - loss: 0.1361 - accuracy: 0.9532 - val_loss: 0.5506 - val_accuracy: 0.8596\n",
      "Epoch 17/100\n",
      "50000/50000 [==============================] - 229s 5ms/sample - loss: 0.1220 - accuracy: 0.9593 - val_loss: 0.5414 - val_accuracy: 0.8685\n",
      "Epoch 18/100\n",
      "50000/50000 [==============================] - 232s 5ms/sample - loss: 0.1187 - accuracy: 0.9611 - val_loss: 0.5362 - val_accuracy: 0.8714\n",
      "Epoch 19/100\n",
      "50000/50000 [==============================] - 230s 5ms/sample - loss: 0.1051 - accuracy: 0.9647 - val_loss: 0.5273 - val_accuracy: 0.8778\n",
      "Epoch 20/100\n",
      "50000/50000 [==============================] - 227s 5ms/sample - loss: 0.1036 - accuracy: 0.9655 - val_loss: 0.5976 - val_accuracy: 0.8708\n",
      "Epoch 21/100\n",
      "50000/50000 [==============================] - 228s 5ms/sample - loss: 0.0955 - accuracy: 0.9674 - val_loss: 0.5108 - val_accuracy: 0.8769\n",
      "Epoch 22/100\n",
      "50000/50000 [==============================] - 228s 5ms/sample - loss: 0.0916 - accuracy: 0.9702 - val_loss: 0.5341 - val_accuracy: 0.8735\n",
      "Epoch 23/100\n",
      "50000/50000 [==============================] - 227s 5ms/sample - loss: 0.0819 - accuracy: 0.9732 - val_loss: 0.6023 - val_accuracy: 0.8728\n",
      "Epoch 24/100\n",
      "50000/50000 [==============================] - 227s 5ms/sample - loss: 0.0838 - accuracy: 0.9721 - val_loss: 0.6232 - val_accuracy: 0.8684\n",
      "Epoch 25/100\n",
      "50000/50000 [==============================] - 227s 5ms/sample - loss: 0.0787 - accuracy: 0.9747 - val_loss: 0.6028 - val_accuracy: 0.8710\n",
      "Epoch 26/100\n",
      "50000/50000 [==============================] - 228s 5ms/sample - loss: 0.0691 - accuracy: 0.9771 - val_loss: 0.5757 - val_accuracy: 0.8768\n",
      "Epoch 27/100\n",
      "50000/50000 [==============================] - 229s 5ms/sample - loss: 0.0752 - accuracy: 0.9756 - val_loss: 0.5791 - val_accuracy: 0.8783\n",
      "Epoch 28/100\n",
      "50000/50000 [==============================] - 228s 5ms/sample - loss: 0.0665 - accuracy: 0.9783 - val_loss: 0.6116 - val_accuracy: 0.8762\n",
      "Epoch 29/100\n",
      "50000/50000 [==============================] - 228s 5ms/sample - loss: 0.0653 - accuracy: 0.9791 - val_loss: 0.5369 - val_accuracy: 0.8805\n",
      "Epoch 30/100\n",
      "50000/50000 [==============================] - 226s 5ms/sample - loss: 0.0717 - accuracy: 0.9769 - val_loss: 0.5955 - val_accuracy: 0.8757\n",
      "Epoch 31/100\n",
      "50000/50000 [==============================] - 227s 5ms/sample - loss: 0.0577 - accuracy: 0.9818 - val_loss: 0.5647 - val_accuracy: 0.8819\n",
      "Epoch 32/100\n",
      "50000/50000 [==============================] - 227s 5ms/sample - loss: 0.0541 - accuracy: 0.9826 - val_loss: 0.5798 - val_accuracy: 0.8798\n",
      "Epoch 33/100\n",
      "50000/50000 [==============================] - 227s 5ms/sample - loss: 0.0585 - accuracy: 0.9810 - val_loss: 0.5621 - val_accuracy: 0.8748\n",
      "Epoch 34/100\n",
      "50000/50000 [==============================] - 227s 5ms/sample - loss: 0.0577 - accuracy: 0.9812 - val_loss: 0.5628 - val_accuracy: 0.8766\n",
      "Epoch 35/100\n",
      "50000/50000 [==============================] - 227s 5ms/sample - loss: 0.0513 - accuracy: 0.9839 - val_loss: 0.7559 - val_accuracy: 0.8657\n",
      "Epoch 36/100\n",
      "50000/50000 [==============================] - 227s 5ms/sample - loss: 0.0546 - accuracy: 0.9832 - val_loss: 0.5746 - val_accuracy: 0.8806\n",
      "Epoch 37/100\n",
      "50000/50000 [==============================] - 227s 5ms/sample - loss: 0.0485 - accuracy: 0.9842 - val_loss: 0.5722 - val_accuracy: 0.8814\n",
      "Epoch 38/100\n",
      "50000/50000 [==============================] - 228s 5ms/sample - loss: 0.0461 - accuracy: 0.9847 - val_loss: 0.5963 - val_accuracy: 0.8856\n",
      "Epoch 39/100\n",
      "50000/50000 [==============================] - 227s 5ms/sample - loss: 0.0505 - accuracy: 0.9834 - val_loss: 0.6412 - val_accuracy: 0.8830\n",
      "Epoch 40/100\n",
      "50000/50000 [==============================] - 227s 5ms/sample - loss: 0.0456 - accuracy: 0.9849 - val_loss: 0.6324 - val_accuracy: 0.8803\n",
      "Epoch 41/100\n",
      "50000/50000 [==============================] - 226s 5ms/sample - loss: 0.0445 - accuracy: 0.9857 - val_loss: 0.5729 - val_accuracy: 0.8825\n",
      "Epoch 42/100\n",
      "50000/50000 [==============================] - 227s 5ms/sample - loss: 0.0445 - accuracy: 0.9858 - val_loss: 0.6638 - val_accuracy: 0.8833\n",
      "Epoch 43/100\n",
      "50000/50000 [==============================] - 226s 5ms/sample - loss: 0.0472 - accuracy: 0.9852 - val_loss: 0.5683 - val_accuracy: 0.8830\n",
      "Epoch 44/100\n",
      "50000/50000 [==============================] - 226s 5ms/sample - loss: 0.0425 - accuracy: 0.9858 - val_loss: 0.6626 - val_accuracy: 0.8734\n",
      "Epoch 45/100\n",
      "50000/50000 [==============================] - 226s 5ms/sample - loss: 0.0414 - accuracy: 0.9872 - val_loss: 0.5491 - val_accuracy: 0.8847\n",
      "Epoch 46/100\n",
      "50000/50000 [==============================] - 226s 5ms/sample - loss: 0.0380 - accuracy: 0.9878 - val_loss: 0.7083 - val_accuracy: 0.8664\n",
      "Epoch 47/100\n",
      "50000/50000 [==============================] - 226s 5ms/sample - loss: 0.0395 - accuracy: 0.9875 - val_loss: 0.5735 - val_accuracy: 0.8802\n",
      "Epoch 48/100\n",
      "50000/50000 [==============================] - 226s 5ms/sample - loss: 0.0386 - accuracy: 0.9876 - val_loss: 0.6964 - val_accuracy: 0.8849\n",
      "Epoch 49/100\n",
      "50000/50000 [==============================] - 227s 5ms/sample - loss: 0.0396 - accuracy: 0.9877 - val_loss: 0.6126 - val_accuracy: 0.8864\n",
      "Epoch 50/100\n",
      "50000/50000 [==============================] - 226s 5ms/sample - loss: 0.0343 - accuracy: 0.9886 - val_loss: 0.6608 - val_accuracy: 0.8825\n",
      "Epoch 51/100\n",
      "50000/50000 [==============================] - 226s 5ms/sample - loss: 0.0401 - accuracy: 0.9876 - val_loss: 0.6865 - val_accuracy: 0.8771\n",
      "Epoch 52/100\n",
      "50000/50000 [==============================] - 226s 5ms/sample - loss: 0.0389 - accuracy: 0.9882 - val_loss: 0.5653 - val_accuracy: 0.8857\n",
      "Epoch 53/100\n",
      "50000/50000 [==============================] - 226s 5ms/sample - loss: 0.0367 - accuracy: 0.9879 - val_loss: 0.7266 - val_accuracy: 0.8806\n",
      "Epoch 54/100\n"
     ]
    },
    {
     "name": "stdout",
     "output_type": "stream",
     "text": [
      "50000/50000 [==============================] - 227s 5ms/sample - loss: 0.0360 - accuracy: 0.9888 - val_loss: 0.6299 - val_accuracy: 0.8857\n",
      "Epoch 55/100\n",
      "50000/50000 [==============================] - 226s 5ms/sample - loss: 0.0345 - accuracy: 0.9889 - val_loss: 0.6557 - val_accuracy: 0.8840\n",
      "Epoch 56/100\n",
      "50000/50000 [==============================] - 227s 5ms/sample - loss: 0.0345 - accuracy: 0.9897 - val_loss: 0.6159 - val_accuracy: 0.8884\n",
      "Epoch 57/100\n",
      "50000/50000 [==============================] - 226s 5ms/sample - loss: 0.0338 - accuracy: 0.9892 - val_loss: 0.6740 - val_accuracy: 0.8867\n",
      "Epoch 58/100\n",
      "50000/50000 [==============================] - 226s 5ms/sample - loss: 0.0335 - accuracy: 0.9891 - val_loss: 0.6196 - val_accuracy: 0.8851\n",
      "Epoch 59/100\n",
      "50000/50000 [==============================] - 226s 5ms/sample - loss: 0.0339 - accuracy: 0.9895 - val_loss: 0.6832 - val_accuracy: 0.8802\n",
      "Epoch 60/100\n",
      "50000/50000 [==============================] - 226s 5ms/sample - loss: 0.0296 - accuracy: 0.9906 - val_loss: 0.7285 - val_accuracy: 0.8773\n",
      "Epoch 61/100\n",
      "50000/50000 [==============================] - 226s 5ms/sample - loss: 0.0313 - accuracy: 0.9907 - val_loss: 0.6900 - val_accuracy: 0.8849\n",
      "Epoch 62/100\n",
      "50000/50000 [==============================] - 226s 5ms/sample - loss: 0.0289 - accuracy: 0.9906 - val_loss: 0.6470 - val_accuracy: 0.8863\n",
      "Epoch 63/100\n",
      "50000/50000 [==============================] - 226s 5ms/sample - loss: 0.0296 - accuracy: 0.9906 - val_loss: 0.6643 - val_accuracy: 0.8826\n",
      "Epoch 64/100\n",
      "50000/50000 [==============================] - 226s 5ms/sample - loss: 0.0321 - accuracy: 0.9902 - val_loss: 0.7409 - val_accuracy: 0.8847\n",
      "Epoch 65/100\n",
      "50000/50000 [==============================] - 226s 5ms/sample - loss: 0.0318 - accuracy: 0.9905 - val_loss: 0.7399 - val_accuracy: 0.8853\n",
      "Epoch 66/100\n",
      "50000/50000 [==============================] - 226s 5ms/sample - loss: 0.0316 - accuracy: 0.9902 - val_loss: 0.6390 - val_accuracy: 0.8858\n",
      "Epoch 67/100\n",
      "50000/50000 [==============================] - 226s 5ms/sample - loss: 0.0253 - accuracy: 0.9920 - val_loss: 0.7563 - val_accuracy: 0.8849\n",
      "Epoch 68/100\n",
      "50000/50000 [==============================] - 227s 5ms/sample - loss: 0.0279 - accuracy: 0.9915 - val_loss: 0.6805 - val_accuracy: 0.8896\n",
      "Epoch 69/100\n",
      "50000/50000 [==============================] - 226s 5ms/sample - loss: 0.0306 - accuracy: 0.9907 - val_loss: 0.6779 - val_accuracy: 0.8840\n",
      "Epoch 70/100\n",
      "50000/50000 [==============================] - 226s 5ms/sample - loss: 0.0271 - accuracy: 0.9919 - val_loss: 0.7133 - val_accuracy: 0.8825\n",
      "Epoch 71/100\n",
      "50000/50000 [==============================] - 227s 5ms/sample - loss: 0.0271 - accuracy: 0.9917 - val_loss: 0.7848 - val_accuracy: 0.8864\n",
      "Epoch 72/100\n",
      "50000/50000 [==============================] - 227s 5ms/sample - loss: 0.0291 - accuracy: 0.9909 - val_loss: 0.6550 - val_accuracy: 0.8890\n",
      "Epoch 73/100\n",
      "50000/50000 [==============================] - 227s 5ms/sample - loss: 0.0308 - accuracy: 0.9911 - val_loss: 0.6597 - val_accuracy: 0.8842\n",
      "Epoch 74/100\n",
      "50000/50000 [==============================] - 227s 5ms/sample - loss: 0.0274 - accuracy: 0.9917 - val_loss: 0.6126 - val_accuracy: 0.8872\n",
      "Epoch 75/100\n",
      "50000/50000 [==============================] - 226s 5ms/sample - loss: 0.0268 - accuracy: 0.9917 - val_loss: 0.6653 - val_accuracy: 0.8895\n",
      "Epoch 76/100\n",
      "50000/50000 [==============================] - 227s 5ms/sample - loss: 0.0276 - accuracy: 0.9914 - val_loss: 0.8002 - val_accuracy: 0.8867\n",
      "Epoch 77/100\n",
      "50000/50000 [==============================] - 227s 5ms/sample - loss: 0.0331 - accuracy: 0.9902 - val_loss: 0.6656 - val_accuracy: 0.8849\n",
      "Epoch 78/100\n",
      "50000/50000 [==============================] - 228s 5ms/sample - loss: 0.0249 - accuracy: 0.9929 - val_loss: 0.6842 - val_accuracy: 0.8948\n",
      "Epoch 79/100\n",
      "50000/50000 [==============================] - 227s 5ms/sample - loss: 0.0273 - accuracy: 0.9918 - val_loss: 0.7221 - val_accuracy: 0.8840\n",
      "Epoch 80/100\n",
      "50000/50000 [==============================] - 227s 5ms/sample - loss: 0.0234 - accuracy: 0.9933 - val_loss: 0.6902 - val_accuracy: 0.8877\n",
      "Epoch 81/100\n",
      "50000/50000 [==============================] - 227s 5ms/sample - loss: 0.0288 - accuracy: 0.9917 - val_loss: 0.6835 - val_accuracy: 0.8883\n",
      "Epoch 82/100\n",
      "50000/50000 [==============================] - 227s 5ms/sample - loss: 0.0210 - accuracy: 0.9934 - val_loss: 0.7351 - val_accuracy: 0.8870\n",
      "Epoch 83/100\n",
      "50000/50000 [==============================] - 227s 5ms/sample - loss: 0.0274 - accuracy: 0.9922 - val_loss: 0.7063 - val_accuracy: 0.8849\n",
      "Epoch 84/100\n",
      "50000/50000 [==============================] - 227s 5ms/sample - loss: 0.0268 - accuracy: 0.9919 - val_loss: 0.7336 - val_accuracy: 0.8869\n",
      "Epoch 85/100\n",
      "50000/50000 [==============================] - 227s 5ms/sample - loss: 0.0257 - accuracy: 0.9920 - val_loss: 0.7543 - val_accuracy: 0.8900\n",
      "Epoch 86/100\n",
      "50000/50000 [==============================] - 226s 5ms/sample - loss: 0.0240 - accuracy: 0.9929 - val_loss: 0.7233 - val_accuracy: 0.8881\n",
      "Epoch 87/100\n",
      "50000/50000 [==============================] - 226s 5ms/sample - loss: 0.0261 - accuracy: 0.9921 - val_loss: 0.7669 - val_accuracy: 0.8862\n",
      "Epoch 88/100\n",
      "50000/50000 [==============================] - 225s 5ms/sample - loss: 0.0262 - accuracy: 0.9920 - val_loss: 0.7437 - val_accuracy: 0.8843\n",
      "Epoch 89/100\n",
      "50000/50000 [==============================] - 226s 5ms/sample - loss: 0.0270 - accuracy: 0.9919 - val_loss: 0.7255 - val_accuracy: 0.8887\n",
      "Epoch 90/100\n",
      "50000/50000 [==============================] - 226s 5ms/sample - loss: 0.0224 - accuracy: 0.9936 - val_loss: 0.7744 - val_accuracy: 0.8807\n",
      "Epoch 91/100\n",
      "50000/50000 [==============================] - 226s 5ms/sample - loss: 0.0260 - accuracy: 0.9920 - val_loss: 0.7482 - val_accuracy: 0.8904\n",
      "Epoch 92/100\n",
      "50000/50000 [==============================] - 227s 5ms/sample - loss: 0.0256 - accuracy: 0.9928 - val_loss: 0.7038 - val_accuracy: 0.8830\n",
      "Epoch 93/100\n",
      "50000/50000 [==============================] - 227s 5ms/sample - loss: 0.0273 - accuracy: 0.9922 - val_loss: 0.7732 - val_accuracy: 0.8834\n",
      "Epoch 94/100\n",
      "50000/50000 [==============================] - 226s 5ms/sample - loss: 0.0218 - accuracy: 0.9938 - val_loss: 0.6804 - val_accuracy: 0.8857\n",
      "Epoch 95/100\n",
      "50000/50000 [==============================] - 227s 5ms/sample - loss: 0.0251 - accuracy: 0.9925 - val_loss: 0.7284 - val_accuracy: 0.8931\n",
      "Epoch 96/100\n",
      "50000/50000 [==============================] - 227s 5ms/sample - loss: 0.0258 - accuracy: 0.9929 - val_loss: 0.6984 - val_accuracy: 0.8884\n",
      "Epoch 97/100\n",
      "50000/50000 [==============================] - 227s 5ms/sample - loss: 0.0224 - accuracy: 0.9931 - val_loss: 0.7205 - val_accuracy: 0.8888\n",
      "Epoch 98/100\n",
      "50000/50000 [==============================] - 226s 5ms/sample - loss: 0.0236 - accuracy: 0.9929 - val_loss: 0.7751 - val_accuracy: 0.8912\n",
      "Epoch 99/100\n",
      "50000/50000 [==============================] - 227s 5ms/sample - loss: 0.0277 - accuracy: 0.9926 - val_loss: 0.6449 - val_accuracy: 0.8888\n",
      "Epoch 100/100\n",
      "50000/50000 [==============================] - 226s 5ms/sample - loss: 0.0208 - accuracy: 0.9943 - val_loss: 0.6818 - val_accuracy: 0.8878\n"
     ]
    }
   ],
   "source": [
    "# 載入 Callbacks\n",
    "from tensorflow.python.keras.callbacks import ModelCheckpoint\n",
    "\n",
    "model_ckpt = ModelCheckpoint(\"cifar10-1.h5\", \n",
    "                             monitor=\"val_accuracy\", \n",
    "                             save_best_only=True,\n",
    "                              )\n",
    "#超過兩個就要選categorical_crossentrophy\n",
    "classifier.compile(optimizer = 'adam', loss = 'categorical_crossentropy', metrics = ['accuracy'])\n",
    "#classifier.fit(x_train,y_train,batch_size=100,epochs=100)\n",
    "\n",
    "history = classifier.fit(x_train, y_train,\n",
    "                    batch_size=64,\n",
    "                    epochs=100,\n",
    "                    verbose=1,\n",
    "                    validation_data=(x_test, y_test),\n",
    "                    shuffle=True,\n",
    "                    callbacks=[model_ckpt])\n",
    "# Collect results\n",
    "train_loss = classifier.history.history[\"loss\"]\n",
    "valid_loss = classifier.history.history[\"val_loss\"]\n",
    "train_acc = classifier.history.history[\"accuracy\"]\n",
    "valid_acc = classifier.history.history[\"val_accuracy\"]\n"
   ]
  },
  {
   "cell_type": "code",
   "execution_count": 17,
   "metadata": {},
   "outputs": [],
   "source": [
    "# Collect results\n",
    "train_loss = classifier.history.history[\"loss\"]\n",
    "valid_loss = classifier.history.history[\"val_loss\"]\n",
    "train_acc = classifier.history.history[\"accuracy\"]\n",
    "valid_acc = classifier.history.history[\"val_accuracy\"]"
   ]
  },
  {
   "cell_type": "code",
   "execution_count": 24,
   "metadata": {},
   "outputs": [
    {
     "name": "stdout",
     "output_type": "stream",
     "text": [
      "10000/10000 [==============================] - 15s 2ms/sample - loss: 0.6842 - accuracy: 0.8948\n"
     ]
    }
   ],
   "source": [
    "from tensorflow.python import keras\n",
    "model = keras.models.load_model(\"cifar10-1.h5\")\n",
    "loss_loadback, acc_loadback = model.evaluate(x_test, y_test)"
   ]
  },
  {
   "cell_type": "code",
   "execution_count": 25,
   "metadata": {},
   "outputs": [
    {
     "data": {
      "image/png": "[encoded data removed]",
      "text/plain": [
       "<Figure size 432x288 with 1 Axes>"
      ]
     },
     "metadata": {
      "needs_background": "light"
     },
     "output_type": "display_data"
    },
    {
     "data": {
      "image/png": "[encoded data removed]",
      "text/plain": [
       "<Figure size 432x288 with 1 Axes>"
      ]
     },
     "metadata": {
      "needs_background": "light"
     },
     "output_type": "display_data"
    }
   ],
   "source": [
    "\"\"\"Code Here\n",
    "將結果繪出\n",
    "\"\"\"\n",
    "\n",
    "import matplotlib.pyplot as plt\n",
    "%matplotlib inline\n",
    "\n",
    "plt.plot(range(len(train_loss)), train_loss, label=\"train loss\")\n",
    "plt.plot(range(len(valid_loss)), valid_loss, label=\"valid loss\")\n",
    "plt.hlines(y=loss_loadback, xmin=0, xmax=len(train_loss), colors='r', linestyles='--')\n",
    "plt.legend()\n",
    "plt.title(\"Loss\")\n",
    "plt.show()\n",
    "\n",
    "plt.plot(range(len(train_acc)), train_acc, label=\"train accuracy\")\n",
    "plt.plot(range(len(valid_acc)), valid_acc, label=\"valid accuracy\")\n",
    "plt.hlines(y=acc_loadback, xmin=0, xmax=len(train_loss), colors='r', linestyles='--')\n",
    "plt.legend()\n",
    "plt.title(\"Accuracy\")\n",
    "plt.show()"
   ]
  },
  {
   "cell_type": "markdown",
   "metadata": {},
   "source": [
    "## 預測新圖片，輸入影像前處理要與訓練時相同\n",
    "#### ((X-mean)/(std+1e-7) ):這裡的mean跟std是訓練集的\n",
    "## 維度如下方示範"
   ]
  },
  {
   "cell_type": "code",
   "execution_count": 26,
   "metadata": {},
   "outputs": [
    {
     "data": {
      "text/plain": [
       "array([[9.3903794e-04, 3.9745135e-08, 9.1956422e-04, 8.5400110e-01,\n",
       "        1.3696787e-01, 7.9484751e-05, 2.5481079e-03, 2.9188898e-04,\n",
       "        4.2497292e-03, 3.1844604e-06]], dtype=float32)"
      ]
     },
     "execution_count": 26,
     "metadata": {},
     "output_type": "execute_result"
    }
   ],
   "source": [
    "input_example=(np.zeros(shape=(1,32,32,3))-mean_train)/(std_train+1e-7) \n",
    "classifier.predict(input_example)"
   ]
  },
  {
   "cell_type": "code",
   "execution_count": null,
   "metadata": {},
   "outputs": [],
   "source": []
  }
 ],
 "metadata": {
  "kernelspec": {
   "display_name": "keras",
   "language": "python",
   "name": "keras"
  },
  "language_info": {
   "codemirror_mode": {
    "name": "ipython",
    "version": 3
   },
   "file_extension": ".py",
   "mimetype": "text/x-python",
   "name": "python",
   "nbconvert_exporter": "python",
   "pygments_lexer": "ipython3",
   "version": "3.7.5"
  }
 },
 "nbformat": 4,
 "nbformat_minor": 2
}
